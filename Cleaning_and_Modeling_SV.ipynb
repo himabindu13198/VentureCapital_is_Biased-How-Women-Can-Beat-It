{
  "nbformat": 4,
  "nbformat_minor": 0,
  "metadata": {
    "colab": {
      "name": "Cleaning and Modeling_SV.ipynb",
      "provenance": [],
      "collapsed_sections": []
    },
    "kernelspec": {
      "name": "python3",
      "display_name": "Python 3"
    }
  },
  "cells": [
    {
      "cell_type": "code",
      "metadata": {
        "id": "zOEt5ocQu6Hn",
        "outputId": "95ede9f9-ec22-42f7-d225-31795bb49fdf",
        "colab": {
          "base_uri": "https://localhost:8080/",
          "height": 71
        }
      },
      "source": [
        "### Load relevant packages\n",
        "import pandas                  as pd\n",
        "import numpy                   as np\n",
        "import matplotlib.pyplot       as plt\n",
        "import seaborn                 as sns\n",
        "import statsmodels.formula.api as sm\n",
        "import os\n",
        "import random\n",
        "\n",
        "%matplotlib inline\n",
        "plt.style.use('ggplot')"
      ],
      "execution_count": 1,
      "outputs": [
        {
          "output_type": "stream",
          "text": [
            "/usr/local/lib/python3.6/dist-packages/statsmodels/tools/_testing.py:19: FutureWarning: pandas.util.testing is deprecated. Use the functions in the public API at pandas.testing instead.\n",
            "  import pandas.util.testing as tm\n"
          ],
          "name": "stderr"
        }
      ]
    },
    {
      "cell_type": "code",
      "metadata": {
        "id": "bsQtxLKPvWgx",
        "outputId": "e79a2e91-4ed1-4b28-8109-f5a3c8ed9142",
        "colab": {
          "base_uri": "https://localhost:8080/",
          "height": 105
        }
      },
      "source": [
        "## Using file from the drive\n",
        "from google.colab import drive\n",
        "drive.mount('/content/drive')\n",
        "!ls\n",
        "df = pd.read_csv('/content/drive/Shared drives/Data Science for All - Womens Summit/Data/US Crunchbase Companies.csv')\n",
        "# df.head()"
      ],
      "execution_count": 2,
      "outputs": [
        {
          "output_type": "stream",
          "text": [
            "Mounted at /content/drive\n",
            "drive  sample_data\n"
          ],
          "name": "stdout"
        },
        {
          "output_type": "stream",
          "text": [
            "/usr/local/lib/python3.6/dist-packages/IPython/core/interactiveshell.py:2718: DtypeWarning: Columns (6,18,26,28,32,33,34,38,39,41,42,43,44,45,46,53,56,74,76,78,82,83,90,94,96,97,101,102,103,104,105,107,108,109,110,111,112,114,115,118,120) have mixed types.Specify dtype option on import or set low_memory=False.\n",
            "  interactivity=interactivity, compiler=compiler, result=result)\n"
          ],
          "name": "stderr"
        }
      ]
    },
    {
      "cell_type": "code",
      "metadata": {
        "id": "rY-tlrkFNJul",
        "outputId": "1ff6c917-a293-4b76-9c6d-c7b95880199d",
        "colab": {
          "base_uri": "https://localhost:8080/",
          "height": 34
        }
      },
      "source": [
        "# Women Founded or Led businesses\n",
        "df_women = df[df['Diversity Spotlight (US Only)'].astype(str).str.contains(\"Women\")]\n",
        "len(df_women)"
      ],
      "execution_count": 3,
      "outputs": [
        {
          "output_type": "execute_result",
          "data": {
            "text/plain": [
              "6019"
            ]
          },
          "metadata": {
            "tags": []
          },
          "execution_count": 3
        }
      ]
    },
    {
      "cell_type": "code",
      "metadata": {
        "id": "Yh-VpT1kBCle"
      },
      "source": [
        "df_women = df_women[['Total Funding Amount Currency (in USD)', 'Estimated Revenue Range', 'Number of Investments',\n",
        "                 'Number of Exits (IPO)']]"
      ],
      "execution_count": 4,
      "outputs": []
    },
    {
      "cell_type": "code",
      "metadata": {
        "id": "8Yz1X1JOxOpx"
      },
      "source": [
        "## CLEANING\n",
        "## Step 1: Cleaning and Formatting dataset to be used\n",
        "df_women.rename(columns={'Estimated Revenue Range': 'Estimated Revenue >= 1M'}, inplace=True)\n",
        "\n"
      ],
      "execution_count": 5,
      "outputs": []
    },
    {
      "cell_type": "code",
      "metadata": {
        "id": "BidHaoq6eQsr",
        "outputId": "94a48b0d-93b8-4ec7-af8f-0eefa7fee546",
        "colab": {
          "base_uri": "https://localhost:8080/",
          "height": 411
        }
      },
      "source": [
        "#revenue cleaned\n",
        "## 1 if greater than 1M; 0 otherwise\n",
        "df_women.loc[(df_women['Estimated Revenue >= 1M'] == 'Less than $1M'),'Estimated Revenue >= 1M']=0\n",
        "df_women.loc[~(df_women['Estimated Revenue >= 1M'] == 0),'Estimated Revenue >= 1M']=1\n",
        "df_women"
      ],
      "execution_count": 6,
      "outputs": [
        {
          "output_type": "execute_result",
          "data": {
            "text/html": [
              "<div>\n",
              "<style scoped>\n",
              "    .dataframe tbody tr th:only-of-type {\n",
              "        vertical-align: middle;\n",
              "    }\n",
              "\n",
              "    .dataframe tbody tr th {\n",
              "        vertical-align: top;\n",
              "    }\n",
              "\n",
              "    .dataframe thead th {\n",
              "        text-align: right;\n",
              "    }\n",
              "</style>\n",
              "<table border=\"1\" class=\"dataframe\">\n",
              "  <thead>\n",
              "    <tr style=\"text-align: right;\">\n",
              "      <th></th>\n",
              "      <th>Total Funding Amount Currency (in USD)</th>\n",
              "      <th>Estimated Revenue &gt;= 1M</th>\n",
              "      <th>Number of Investments</th>\n",
              "      <th>Number of Exits (IPO)</th>\n",
              "    </tr>\n",
              "  </thead>\n",
              "  <tbody>\n",
              "    <tr>\n",
              "      <th>63</th>\n",
              "      <td>NaN</td>\n",
              "      <td>1</td>\n",
              "      <td>NaN</td>\n",
              "      <td>NaN</td>\n",
              "    </tr>\n",
              "    <tr>\n",
              "      <th>84</th>\n",
              "      <td>NaN</td>\n",
              "      <td>1</td>\n",
              "      <td>NaN</td>\n",
              "      <td>NaN</td>\n",
              "    </tr>\n",
              "    <tr>\n",
              "      <th>87</th>\n",
              "      <td>50000.0</td>\n",
              "      <td>0</td>\n",
              "      <td>NaN</td>\n",
              "      <td>NaN</td>\n",
              "    </tr>\n",
              "    <tr>\n",
              "      <th>105</th>\n",
              "      <td>NaN</td>\n",
              "      <td>1</td>\n",
              "      <td>NaN</td>\n",
              "      <td>NaN</td>\n",
              "    </tr>\n",
              "    <tr>\n",
              "      <th>106</th>\n",
              "      <td>500000.0</td>\n",
              "      <td>1</td>\n",
              "      <td>NaN</td>\n",
              "      <td>NaN</td>\n",
              "    </tr>\n",
              "    <tr>\n",
              "      <th>...</th>\n",
              "      <td>...</td>\n",
              "      <td>...</td>\n",
              "      <td>...</td>\n",
              "      <td>...</td>\n",
              "    </tr>\n",
              "    <tr>\n",
              "      <th>108896</th>\n",
              "      <td>NaN</td>\n",
              "      <td>0</td>\n",
              "      <td>NaN</td>\n",
              "      <td>NaN</td>\n",
              "    </tr>\n",
              "    <tr>\n",
              "      <th>108924</th>\n",
              "      <td>NaN</td>\n",
              "      <td>1</td>\n",
              "      <td>NaN</td>\n",
              "      <td>NaN</td>\n",
              "    </tr>\n",
              "    <tr>\n",
              "      <th>108951</th>\n",
              "      <td>NaN</td>\n",
              "      <td>0</td>\n",
              "      <td>NaN</td>\n",
              "      <td>NaN</td>\n",
              "    </tr>\n",
              "    <tr>\n",
              "      <th>108962</th>\n",
              "      <td>NaN</td>\n",
              "      <td>0</td>\n",
              "      <td>NaN</td>\n",
              "      <td>NaN</td>\n",
              "    </tr>\n",
              "    <tr>\n",
              "      <th>108964</th>\n",
              "      <td>NaN</td>\n",
              "      <td>1</td>\n",
              "      <td>NaN</td>\n",
              "      <td>NaN</td>\n",
              "    </tr>\n",
              "  </tbody>\n",
              "</table>\n",
              "<p>6019 rows × 4 columns</p>\n",
              "</div>"
            ],
            "text/plain": [
              "        Total Funding Amount Currency (in USD)  ... Number of Exits (IPO)\n",
              "63                                         NaN  ...                   NaN\n",
              "84                                         NaN  ...                   NaN\n",
              "87                                     50000.0  ...                   NaN\n",
              "105                                        NaN  ...                   NaN\n",
              "106                                   500000.0  ...                   NaN\n",
              "...                                        ...  ...                   ...\n",
              "108896                                     NaN  ...                   NaN\n",
              "108924                                     NaN  ...                   NaN\n",
              "108951                                     NaN  ...                   NaN\n",
              "108962                                     NaN  ...                   NaN\n",
              "108964                                     NaN  ...                   NaN\n",
              "\n",
              "[6019 rows x 4 columns]"
            ]
          },
          "metadata": {
            "tags": []
          },
          "execution_count": 6
        }
      ]
    },
    {
      "cell_type": "code",
      "metadata": {
        "id": "kU-P0HAZhhm-",
        "outputId": "3c04f343-3e6d-4db5-b391-b17caddee178",
        "colab": {
          "base_uri": "https://localhost:8080/",
          "height": 68
        }
      },
      "source": [
        "# Remove string \"Total Funding Amount Currency (in USD)\" from the list of values\n",
        "# df_target = df_women[df_women['Total Funding Amount Currency (in USD)'] != \"Total Funding Amount Currency (in USD)\"]\n",
        "df_target= df_women\n",
        "\n",
        "# Find 25%, 50%, 75% quartiles of the non-empty Total Funding Amount Currency (in USD)\n",
        "low_value = df_target['Total Funding Amount Currency (in USD)'].dropna().astype('float').quantile(0.25)\n",
        "medium_value = df_target['Total Funding Amount Currency (in USD)'].dropna().astype('float').quantile(0.5)\n",
        "high_value = df_target['Total Funding Amount Currency (in USD)'].dropna().astype('float').quantile(0.75)\n",
        "print(\"The 25% quartile of non-empty total funding amount:\", low_value)\n",
        "print(\"The 50% quartile of non-empty total funding amount:\", medium_value)\n",
        "print(\"The 75% quartile of non-empty total funding amount:\", high_value)"
      ],
      "execution_count": 7,
      "outputs": [
        {
          "output_type": "stream",
          "text": [
            "The 25% quartile of non-empty total funding amount: 400000.0\n",
            "The 50% quartile of non-empty total funding amount: 2200000.0\n",
            "The 75% quartile of non-empty total funding amount: 10500000.0\n"
          ],
          "name": "stdout"
        }
      ]
    },
    {
      "cell_type": "code",
      "metadata": {
        "id": "l2PQbucih5kb",
        "outputId": "5ece075c-3077-4a2f-a000-9aaf41536b88",
        "colab": {
          "base_uri": "https://localhost:8080/",
          "height": 221
        }
      },
      "source": [
        "df_women['Total Funding Amount Currency (in USD)']"
      ],
      "execution_count": 8,
      "outputs": [
        {
          "output_type": "execute_result",
          "data": {
            "text/plain": [
              "63             NaN\n",
              "84             NaN\n",
              "87         50000.0\n",
              "105            NaN\n",
              "106       500000.0\n",
              "            ...   \n",
              "108896         NaN\n",
              "108924         NaN\n",
              "108951         NaN\n",
              "108962         NaN\n",
              "108964         NaN\n",
              "Name: Total Funding Amount Currency (in USD), Length: 6019, dtype: float64"
            ]
          },
          "metadata": {
            "tags": []
          },
          "execution_count": 8
        }
      ]
    },
    {
      "cell_type": "code",
      "metadata": {
        "id": "UCWW_gUtrb0V"
      },
      "source": [
        "#KNN imputation\n",
        "\n",
        "from sklearn.impute import KNNImputer\n",
        "from sklearn.model_selection import train_test_split\n",
        "\n",
        "X_train = df_women[['Estimated Revenue >= 1M','Number of Exits (IPO)','Number of Investments']]\n",
        "y_train = df_women['Total Funding Amount Currency (in USD)']\n",
        "\n",
        "\n",
        "X_train, X_test, y_train, y_test = train_test_split(X_train,y_train,test_size=0.3)\n",
        "\n",
        "knn = KNNImputer(n_neighbors=5,add_indicator=True)\n",
        "knn.fit(X_train)\n",
        "X_train_imputed = pd.DataFrame(knn.transform(X_train))\n",
        "\n",
        "## original code\n",
        "#categorical = X_train.dtypes == object\n",
        "#preprocess = make_column_transformer((KNNImputer(missing_values = np.nan),['Number of Investments >= 1','Funding >= 200K','Estimated Revenue >= 1M','Number of Exits (IPO) >= 1']), remainder = 'passthrough')\n",
        "#model_lr = make_pipeline(preprocess,DecisionTreeClassifier())\n",
        "#scores_lr = cross_val_score(model_lr, X_train, y_train)\n",
        "#np.mean(scores_lr)"
      ],
      "execution_count": 9,
      "outputs": []
    },
    {
      "cell_type": "code",
      "metadata": {
        "id": "r5zuu0KgpVLD"
      },
      "source": [
        "#similarly impute other dataframes\n",
        "y_train = np.array(y_train).reshape(-1, 1)\n",
        "knn.fit(y_train)\n",
        "y_train_imputed = pd.DataFrame(knn.transform(y_train))\n",
        "\n",
        "knn.fit(X_test)\n",
        "X_test_imputed = pd.DataFrame(knn.transform(X_test))\n",
        "\n",
        "y_test = np.array(y_test).reshape(-1, 1)\n",
        "knn.fit(y_test)\n",
        "y_test_imputed = pd.DataFrame(knn.transform(y_test))"
      ],
      "execution_count": 10,
      "outputs": []
    },
    {
      "cell_type": "code",
      "metadata": {
        "id": "to2JE4B5pFD9",
        "outputId": "87d2564a-b052-4995-97c3-ee3c1be10638",
        "colab": {
          "base_uri": "https://localhost:8080/",
          "height": 411
        }
      },
      "source": [
        "y_test_imputed"
      ],
      "execution_count": 11,
      "outputs": [
        {
          "output_type": "execute_result",
          "data": {
            "text/html": [
              "<div>\n",
              "<style scoped>\n",
              "    .dataframe tbody tr th:only-of-type {\n",
              "        vertical-align: middle;\n",
              "    }\n",
              "\n",
              "    .dataframe tbody tr th {\n",
              "        vertical-align: top;\n",
              "    }\n",
              "\n",
              "    .dataframe thead th {\n",
              "        text-align: right;\n",
              "    }\n",
              "</style>\n",
              "<table border=\"1\" class=\"dataframe\">\n",
              "  <thead>\n",
              "    <tr style=\"text-align: right;\">\n",
              "      <th></th>\n",
              "      <th>0</th>\n",
              "      <th>1</th>\n",
              "    </tr>\n",
              "  </thead>\n",
              "  <tbody>\n",
              "    <tr>\n",
              "      <th>0</th>\n",
              "      <td>1.853993e+07</td>\n",
              "      <td>1.0</td>\n",
              "    </tr>\n",
              "    <tr>\n",
              "      <th>1</th>\n",
              "      <td>8.928491e+07</td>\n",
              "      <td>0.0</td>\n",
              "    </tr>\n",
              "    <tr>\n",
              "      <th>2</th>\n",
              "      <td>1.853993e+07</td>\n",
              "      <td>1.0</td>\n",
              "    </tr>\n",
              "    <tr>\n",
              "      <th>3</th>\n",
              "      <td>6.650000e+05</td>\n",
              "      <td>0.0</td>\n",
              "    </tr>\n",
              "    <tr>\n",
              "      <th>4</th>\n",
              "      <td>5.620000e+06</td>\n",
              "      <td>0.0</td>\n",
              "    </tr>\n",
              "    <tr>\n",
              "      <th>...</th>\n",
              "      <td>...</td>\n",
              "      <td>...</td>\n",
              "    </tr>\n",
              "    <tr>\n",
              "      <th>1801</th>\n",
              "      <td>1.853993e+07</td>\n",
              "      <td>1.0</td>\n",
              "    </tr>\n",
              "    <tr>\n",
              "      <th>1802</th>\n",
              "      <td>1.853993e+07</td>\n",
              "      <td>1.0</td>\n",
              "    </tr>\n",
              "    <tr>\n",
              "      <th>1803</th>\n",
              "      <td>1.853993e+07</td>\n",
              "      <td>1.0</td>\n",
              "    </tr>\n",
              "    <tr>\n",
              "      <th>1804</th>\n",
              "      <td>1.853993e+07</td>\n",
              "      <td>1.0</td>\n",
              "    </tr>\n",
              "    <tr>\n",
              "      <th>1805</th>\n",
              "      <td>1.200000e+06</td>\n",
              "      <td>0.0</td>\n",
              "    </tr>\n",
              "  </tbody>\n",
              "</table>\n",
              "<p>1806 rows × 2 columns</p>\n",
              "</div>"
            ],
            "text/plain": [
              "                 0    1\n",
              "0     1.853993e+07  1.0\n",
              "1     8.928491e+07  0.0\n",
              "2     1.853993e+07  1.0\n",
              "3     6.650000e+05  0.0\n",
              "4     5.620000e+06  0.0\n",
              "...            ...  ...\n",
              "1801  1.853993e+07  1.0\n",
              "1802  1.853993e+07  1.0\n",
              "1803  1.853993e+07  1.0\n",
              "1804  1.853993e+07  1.0\n",
              "1805  1.200000e+06  0.0\n",
              "\n",
              "[1806 rows x 2 columns]"
            ]
          },
          "metadata": {
            "tags": []
          },
          "execution_count": 11
        }
      ]
    },
    {
      "cell_type": "code",
      "metadata": {
        "id": "TXJJ-RjKoOjC"
      },
      "source": [
        "X_train_imputed.drop(X_train_imputed.columns[len(X_train_imputed.columns)-1], axis=1, inplace=True)\n",
        "X_test_imputed.drop(X_test_imputed.columns[len(X_test_imputed.columns)-1], axis=1, inplace=True)\n",
        "X_train_imputed.drop(X_train_imputed.columns[len(X_train_imputed.columns)-1], axis=1, inplace=True)\n",
        "X_test_imputed.drop(X_test_imputed.columns[len(X_test_imputed.columns)-1], axis=1, inplace=True)\n",
        "# X_train_imputed.drop(X_train_imputed.columns[0], axis=1, inplace=True)\n",
        "# X_test_imputed.drop(X_test_imputed.columns[0], axis=1, inplace=True)\n"
      ],
      "execution_count": 12,
      "outputs": []
    },
    {
      "cell_type": "code",
      "metadata": {
        "id": "wL5EHaBQkfvC"
      },
      "source": [
        "y_train_imputed = y_train_imputed[0]\n",
        "y_test_imputed = y_test_imputed[0]\n"
      ],
      "execution_count": 13,
      "outputs": []
    },
    {
      "cell_type": "code",
      "metadata": {
        "id": "G-tiXLwZlMni"
      },
      "source": [
        "for i in range(len(y_train_imputed)):\n",
        "  if(y_train_imputed[i] <= low_value):\n",
        "    y_train_imputed[i] = \"low\"\n",
        "  elif(y_train_imputed[i] <= medium_value):\n",
        "    y_train_imputed[i] = \"moderate\"\n",
        "  else:\n",
        "    y_train_imputed[i] = \"high\""
      ],
      "execution_count": 14,
      "outputs": []
    },
    {
      "cell_type": "code",
      "metadata": {
        "id": "m1XztbWBlBru",
        "outputId": "bb81ffc6-550b-4ea7-a7c5-8522e91d39dd",
        "colab": {
          "base_uri": "https://localhost:8080/",
          "height": 272
        }
      },
      "source": [
        "for i in range(len(y_test_imputed)):\n",
        "  if(y_test_imputed[i] <= low_value):\n",
        "    y_test_imputed[i] = \"low\"\n",
        "  elif(y_test_imputed[i] <= medium_value):\n",
        "    y_test_imputed[i] = \"moderate\"\n",
        "  else:\n",
        "    y_test_imputed[i] = \"high\""
      ],
      "execution_count": 15,
      "outputs": [
        {
          "output_type": "stream",
          "text": [
            "/usr/local/lib/python3.6/dist-packages/ipykernel_launcher.py:7: SettingWithCopyWarning: \n",
            "A value is trying to be set on a copy of a slice from a DataFrame\n",
            "\n",
            "See the caveats in the documentation: https://pandas.pydata.org/pandas-docs/stable/user_guide/indexing.html#returning-a-view-versus-a-copy\n",
            "  import sys\n",
            "/usr/local/lib/python3.6/dist-packages/ipykernel_launcher.py:5: SettingWithCopyWarning: \n",
            "A value is trying to be set on a copy of a slice from a DataFrame\n",
            "\n",
            "See the caveats in the documentation: https://pandas.pydata.org/pandas-docs/stable/user_guide/indexing.html#returning-a-view-versus-a-copy\n",
            "  \"\"\"\n",
            "/usr/local/lib/python3.6/dist-packages/ipykernel_launcher.py:3: SettingWithCopyWarning: \n",
            "A value is trying to be set on a copy of a slice from a DataFrame\n",
            "\n",
            "See the caveats in the documentation: https://pandas.pydata.org/pandas-docs/stable/user_guide/indexing.html#returning-a-view-versus-a-copy\n",
            "  This is separate from the ipykernel package so we can avoid doing imports until\n"
          ],
          "name": "stderr"
        }
      ]
    },
    {
      "cell_type": "code",
      "metadata": {
        "id": "ky7kdBNUTMN2",
        "outputId": "88bcd494-24da-4c29-e780-12a32a269470",
        "colab": {
          "base_uri": "https://localhost:8080/",
          "height": 85
        }
      },
      "source": [
        "pd.Series(y_train_imputed).value_counts()"
      ],
      "execution_count": 16,
      "outputs": [
        {
          "output_type": "execute_result",
          "data": {
            "text/plain": [
              "high        3367\n",
              "moderate     432\n",
              "low          414\n",
              "Name: 0, dtype: int64"
            ]
          },
          "metadata": {
            "tags": []
          },
          "execution_count": 16
        }
      ]
    },
    {
      "cell_type": "code",
      "metadata": {
        "id": "49Kull3VIYdv"
      },
      "source": [
        "from sklearn.tree import DecisionTreeClassifier # Import Decision Tree Classifier\n",
        "from sklearn.model_selection import train_test_split # Import train_test_split function\n",
        "from sklearn import metrics\n",
        "from sklearn import preprocessing"
      ],
      "execution_count": 17,
      "outputs": []
    },
    {
      "cell_type": "code",
      "metadata": {
        "id": "cSvd2Ej3NuRD",
        "outputId": "1b37e03d-9b48-4afc-bc33-4895e0ff37f6",
        "colab": {
          "base_uri": "https://localhost:8080/",
          "height": 105
        }
      },
      "source": [
        "#SMOTE\n",
        "from imblearn.over_sampling import SMOTE"
      ],
      "execution_count": 18,
      "outputs": [
        {
          "output_type": "stream",
          "text": [
            "/usr/local/lib/python3.6/dist-packages/sklearn/externals/six.py:31: FutureWarning: The module is deprecated in version 0.21 and will be removed in version 0.23 since we've dropped support for Python 2.7. Please rely on the official version of six (https://pypi.org/project/six/).\n",
            "  \"(https://pypi.org/project/six/).\", FutureWarning)\n",
            "/usr/local/lib/python3.6/dist-packages/sklearn/utils/deprecation.py:144: FutureWarning: The sklearn.neighbors.base module is  deprecated in version 0.22 and will be removed in version 0.24. The corresponding classes / functions should instead be imported from sklearn.neighbors. Anything that cannot be imported from sklearn.neighbors is now part of the private API.\n",
            "  warnings.warn(message, FutureWarning)\n"
          ],
          "name": "stderr"
        }
      ]
    },
    {
      "cell_type": "code",
      "metadata": {
        "id": "6-kE6swsN2MN",
        "outputId": "8fc0447e-08fa-4e1d-8ebb-d7b42bb1271b",
        "colab": {
          "base_uri": "https://localhost:8080/",
          "height": 105
        }
      },
      "source": [
        "# transform the dataset\n",
        "oversample = SMOTE()\n",
        "X_train_imputed, y_train_imputed = oversample.fit_resample(X_train_imputed, y_train_imputed)"
      ],
      "execution_count": 19,
      "outputs": [
        {
          "output_type": "stream",
          "text": [
            "/usr/local/lib/python3.6/dist-packages/sklearn/utils/deprecation.py:87: FutureWarning: Function safe_indexing is deprecated; safe_indexing is deprecated in version 0.22 and will be removed in version 0.24.\n",
            "  warnings.warn(msg, category=FutureWarning)\n",
            "/usr/local/lib/python3.6/dist-packages/sklearn/utils/deprecation.py:87: FutureWarning: Function safe_indexing is deprecated; safe_indexing is deprecated in version 0.22 and will be removed in version 0.24.\n",
            "  warnings.warn(msg, category=FutureWarning)\n"
          ],
          "name": "stderr"
        }
      ]
    },
    {
      "cell_type": "code",
      "metadata": {
        "id": "2wHy_Pz6dM7g"
      },
      "source": [
        "def plot_graph(X, y, title, xlabel, ylabel, need_log_x, lab):\n",
        "    plt.plot(X, y, label=lab)\n",
        "    if (need_log_x == 1):\n",
        "        plt.xscale('log')\n",
        "    plt.title(title)\n",
        "    plt.xlabel(xlabel)\n",
        "    plt.ylabel(ylabel)\n",
        "    plt.grid()\n",
        "    if lab:\n",
        "        plt.legend()"
      ],
      "execution_count": 20,
      "outputs": []
    },
    {
      "cell_type": "code",
      "metadata": {
        "id": "FCmMtAxWh3GO"
      },
      "source": [
        "#HYPERPARAMETER TUNING\n",
        "# from sklearn.tree import DecisionTreeClassifier\n",
        "# from sklearn.pipeline import make_pipeline\n",
        "# from sklearn.model_selection import GridSearchCV\n",
        "\n",
        "\n",
        "# model_dt = make_pipeline(DecisionTreeClassifier())\n",
        "# param_grid = {'decisiontreeclassifier__max_depth':[1,2,3,4,5,6,7]}\n",
        "# grid_dt = GridSearchCV(model_dt, param_grid = param_grid, return_train_score=True, cv = 5)\n",
        "# grid_dt.fit(X_train_imputed,y_train_imputed)\n",
        "\n",
        "# dt_vals = [d['decisiontreeclassifier__max_depth'] for d in grid_dt.cv_results_['params']]\n",
        "# # plot\n",
        "# plot_graph(dt_vals, grid_dt.cv_results_['mean_test_score'].tolist(), 'Decision Tree Classifier', 'Max Depth', 'Accuracy', 0, None)\n",
        "\n",
        "\n",
        "# print(\"Decision Tree Classifier - best parameters: {}\".format(grid_dt.best_params_))\n",
        "# print(\"Decision Tree Classifier - best mean cross-validation score: {:.4f}\".format(grid_dt.best_score_))"
      ],
      "execution_count": 27,
      "outputs": []
    },
    {
      "cell_type": "code",
      "metadata": {
        "id": "VA7mTXYbifsR",
        "outputId": "ab5acdea-15ca-4fab-d506-8ca262e59bae",
        "colab": {
          "base_uri": "https://localhost:8080/",
          "height": 34
        }
      },
      "source": [
        "dt = DecisionTreeClassifier(max_depth = 2)\n",
        "dt = dt.fit(X_train_imputed, y_train_imputed)\n",
        "score = dt.score(X_test_imputed, y_test_imputed)\n",
        "print(score)"
      ],
      "execution_count": 29,
      "outputs": [
        {
          "output_type": "stream",
          "text": [
            "0.8111849390919158\n"
          ],
          "name": "stdout"
        }
      ]
    },
    {
      "cell_type": "code",
      "metadata": {
        "id": "bsZ-Dv4co9A-",
        "outputId": "bed7b607-6446-4b61-b3ec-655d17bc9bc6",
        "colab": {
          "base_uri": "https://localhost:8080/",
          "height": 136
        }
      },
      "source": [
        "X_train_imputed"
      ],
      "execution_count": 30,
      "outputs": [
        {
          "output_type": "execute_result",
          "data": {
            "text/plain": [
              "array([[1. , 1.8, 9. ],\n",
              "       [1. , 1.8, 9. ],\n",
              "       [1. , 1.8, 9. ],\n",
              "       ...,\n",
              "       [1. , 1.8, 9. ],\n",
              "       [0. , 1.8, 6.8],\n",
              "       [0. , 1.8, 6.8]])"
            ]
          },
          "metadata": {
            "tags": []
          },
          "execution_count": 30
        }
      ]
    },
    {
      "cell_type": "code",
      "metadata": {
        "id": "OS3pmGVVqeKq",
        "outputId": "241f62b5-fc69-4866-b6ce-0399a15f2ea3",
        "colab": {
          "base_uri": "https://localhost:8080/",
          "height": 439
        }
      },
      "source": [
        "import graphviz\n",
        "from sklearn import tree\n",
        "feature_cols = ['Estimated Revenue >= 1M','Number of Exits (IPO)','Number of Investments']\n",
        "# DOT data\n",
        "dot_data = tree.export_graphviz(dt, out_file=None, \n",
        "                                feature_names=feature_cols,  \n",
        "                                class_names=['low','moderate','high'],filled = True)\n",
        "\n",
        "# Draw graph\n",
        "graph = graphviz.Source(dot_data, format=\"png\") \n",
        "graph"
      ],
      "execution_count": 31,
      "outputs": [
        {
          "output_type": "execute_result",
          "data": {
            "text/plain": [
              "<graphviz.files.Source at 0x7f2cbe23ceb8>"
            ],
            "image/svg+xml": "<?xml version=\"1.0\" encoding=\"UTF-8\" standalone=\"no\"?>\n<!DOCTYPE svg PUBLIC \"-//W3C//DTD SVG 1.1//EN\"\n \"http://www.w3.org/Graphics/SVG/1.1/DTD/svg11.dtd\">\n<!-- Generated by graphviz version 2.40.1 (20161225.0304)\n -->\n<!-- Title: Tree Pages: 1 -->\n<svg width=\"663pt\" height=\"314pt\"\n viewBox=\"0.00 0.00 663.00 314.00\" xmlns=\"http://www.w3.org/2000/svg\" xmlns:xlink=\"http://www.w3.org/1999/xlink\">\n<g id=\"graph0\" class=\"graph\" transform=\"scale(1 1) rotate(0) translate(4 310)\">\n<title>Tree</title>\n<polygon fill=\"#ffffff\" stroke=\"transparent\" points=\"-4,4 -4,-310 659,-310 659,4 -4,4\"/>\n<!-- 0 -->\n<g id=\"node1\" class=\"node\">\n<title>0</title>\n<polygon fill=\"#ffffff\" stroke=\"#000000\" points=\"386,-306 177,-306 177,-223 386,-223 386,-306\"/>\n<text text-anchor=\"middle\" x=\"281.5\" y=\"-290.8\" font-family=\"Times,serif\" font-size=\"14.00\" fill=\"#000000\">Number of Investments &lt;= 6.271</text>\n<text text-anchor=\"middle\" x=\"281.5\" y=\"-275.8\" font-family=\"Times,serif\" font-size=\"14.00\" fill=\"#000000\">gini = 0.667</text>\n<text text-anchor=\"middle\" x=\"281.5\" y=\"-260.8\" font-family=\"Times,serif\" font-size=\"14.00\" fill=\"#000000\">samples = 10101</text>\n<text text-anchor=\"middle\" x=\"281.5\" y=\"-245.8\" font-family=\"Times,serif\" font-size=\"14.00\" fill=\"#000000\">value = [3367, 3367, 3367]</text>\n<text text-anchor=\"middle\" x=\"281.5\" y=\"-230.8\" font-family=\"Times,serif\" font-size=\"14.00\" fill=\"#000000\">class = low</text>\n</g>\n<!-- 1 -->\n<g id=\"node2\" class=\"node\">\n<title>1</title>\n<polygon fill=\"#e6843d\" stroke=\"#000000\" points=\"272,-187 81,-187 81,-104 272,-104 272,-187\"/>\n<text text-anchor=\"middle\" x=\"176.5\" y=\"-171.8\" font-family=\"Times,serif\" font-size=\"14.00\" fill=\"#000000\">Number of Exits (IPO) &lt;= 2.5</text>\n<text text-anchor=\"middle\" x=\"176.5\" y=\"-156.8\" font-family=\"Times,serif\" font-size=\"14.00\" fill=\"#000000\">gini = 0.043</text>\n<text text-anchor=\"middle\" x=\"176.5\" y=\"-141.8\" font-family=\"Times,serif\" font-size=\"14.00\" fill=\"#000000\">samples = 45</text>\n<text text-anchor=\"middle\" x=\"176.5\" y=\"-126.8\" font-family=\"Times,serif\" font-size=\"14.00\" fill=\"#000000\">value = [44, 1, 0]</text>\n<text text-anchor=\"middle\" x=\"176.5\" y=\"-111.8\" font-family=\"Times,serif\" font-size=\"14.00\" fill=\"#000000\">class = low</text>\n</g>\n<!-- 0&#45;&gt;1 -->\n<g id=\"edge1\" class=\"edge\">\n<title>0&#45;&gt;1</title>\n<path fill=\"none\" stroke=\"#000000\" d=\"M244.7761,-222.8796C236.8293,-213.8733 228.351,-204.2644 220.1674,-194.9897\"/>\n<polygon fill=\"#000000\" stroke=\"#000000\" points=\"222.6213,-192.4808 213.3807,-187.2981 217.3725,-197.1122 222.6213,-192.4808\"/>\n<text text-anchor=\"middle\" x=\"211.8212\" y=\"-208.5494\" font-family=\"Times,serif\" font-size=\"14.00\" fill=\"#000000\">True</text>\n</g>\n<!-- 4 -->\n<g id=\"node5\" class=\"node\">\n<title>4</title>\n<polygon fill=\"#ffffff\" stroke=\"#000000\" points=\"484.5,-187 290.5,-187 290.5,-104 484.5,-104 484.5,-187\"/>\n<text text-anchor=\"middle\" x=\"387.5\" y=\"-171.8\" font-family=\"Times,serif\" font-size=\"14.00\" fill=\"#000000\">Number of Investments &lt;= 7.9</text>\n<text text-anchor=\"middle\" x=\"387.5\" y=\"-156.8\" font-family=\"Times,serif\" font-size=\"14.00\" fill=\"#000000\">gini = 0.667</text>\n<text text-anchor=\"middle\" x=\"387.5\" y=\"-141.8\" font-family=\"Times,serif\" font-size=\"14.00\" fill=\"#000000\">samples = 10056</text>\n<text text-anchor=\"middle\" x=\"387.5\" y=\"-126.8\" font-family=\"Times,serif\" font-size=\"14.00\" fill=\"#000000\">value = [3323, 3366, 3367]</text>\n<text text-anchor=\"middle\" x=\"387.5\" y=\"-111.8\" font-family=\"Times,serif\" font-size=\"14.00\" fill=\"#000000\">class = high</text>\n</g>\n<!-- 0&#45;&gt;4 -->\n<g id=\"edge4\" class=\"edge\">\n<title>0&#45;&gt;4</title>\n<path fill=\"none\" stroke=\"#000000\" d=\"M318.5737,-222.8796C326.5961,-213.8733 335.1552,-204.2644 343.4167,-194.9897\"/>\n<polygon fill=\"#000000\" stroke=\"#000000\" points=\"346.2302,-197.0933 350.2681,-187.2981 341.0031,-192.4373 346.2302,-197.0933\"/>\n<text text-anchor=\"middle\" x=\"351.7101\" y=\"-208.5564\" font-family=\"Times,serif\" font-size=\"14.00\" fill=\"#000000\">False</text>\n</g>\n<!-- 2 -->\n<g id=\"node3\" class=\"node\">\n<title>2</title>\n<polygon fill=\"#e58139\" stroke=\"#000000\" points=\"117,-68 0,-68 0,0 117,0 117,-68\"/>\n<text text-anchor=\"middle\" x=\"58.5\" y=\"-52.8\" font-family=\"Times,serif\" font-size=\"14.00\" fill=\"#000000\">gini = 0.0</text>\n<text text-anchor=\"middle\" x=\"58.5\" y=\"-37.8\" font-family=\"Times,serif\" font-size=\"14.00\" fill=\"#000000\">samples = 43</text>\n<text text-anchor=\"middle\" x=\"58.5\" y=\"-22.8\" font-family=\"Times,serif\" font-size=\"14.00\" fill=\"#000000\">value = [43, 0, 0]</text>\n<text text-anchor=\"middle\" x=\"58.5\" y=\"-7.8\" font-family=\"Times,serif\" font-size=\"14.00\" fill=\"#000000\">class = low</text>\n</g>\n<!-- 1&#45;&gt;2 -->\n<g id=\"edge2\" class=\"edge\">\n<title>1&#45;&gt;2</title>\n<path fill=\"none\" stroke=\"#000000\" d=\"M132.5612,-103.9815C122.6402,-94.607 112.1103,-84.6572 102.1992,-75.2921\"/>\n<polygon fill=\"#000000\" stroke=\"#000000\" points=\"104.4334,-72.5878 94.7611,-68.2637 99.6257,-77.6757 104.4334,-72.5878\"/>\n</g>\n<!-- 3 -->\n<g id=\"node4\" class=\"node\">\n<title>3</title>\n<polygon fill=\"#ffffff\" stroke=\"#000000\" points=\"245.5,-68 135.5,-68 135.5,0 245.5,0 245.5,-68\"/>\n<text text-anchor=\"middle\" x=\"190.5\" y=\"-52.8\" font-family=\"Times,serif\" font-size=\"14.00\" fill=\"#000000\">gini = 0.5</text>\n<text text-anchor=\"middle\" x=\"190.5\" y=\"-37.8\" font-family=\"Times,serif\" font-size=\"14.00\" fill=\"#000000\">samples = 2</text>\n<text text-anchor=\"middle\" x=\"190.5\" y=\"-22.8\" font-family=\"Times,serif\" font-size=\"14.00\" fill=\"#000000\">value = [1, 1, 0]</text>\n<text text-anchor=\"middle\" x=\"190.5\" y=\"-7.8\" font-family=\"Times,serif\" font-size=\"14.00\" fill=\"#000000\">class = low</text>\n</g>\n<!-- 1&#45;&gt;3 -->\n<g id=\"edge3\" class=\"edge\">\n<title>1&#45;&gt;3</title>\n<path fill=\"none\" stroke=\"#000000\" d=\"M181.7131,-103.9815C182.7632,-95.618 183.8708,-86.7965 184.9325,-78.3409\"/>\n<polygon fill=\"#000000\" stroke=\"#000000\" points=\"188.4247,-78.6218 186.1978,-68.2637 181.4792,-77.7497 188.4247,-78.6218\"/>\n</g>\n<!-- 5 -->\n<g id=\"node6\" class=\"node\">\n<title>5</title>\n<polygon fill=\"#f5effd\" stroke=\"#000000\" points=\"459.5,-68 289.5,-68 289.5,0 459.5,0 459.5,-68\"/>\n<text text-anchor=\"middle\" x=\"374.5\" y=\"-52.8\" font-family=\"Times,serif\" font-size=\"14.00\" fill=\"#000000\">gini = 0.662</text>\n<text text-anchor=\"middle\" x=\"374.5\" y=\"-37.8\" font-family=\"Times,serif\" font-size=\"14.00\" fill=\"#000000\">samples = 3220</text>\n<text text-anchor=\"middle\" x=\"374.5\" y=\"-22.8\" font-family=\"Times,serif\" font-size=\"14.00\" fill=\"#000000\">value = [914, 1066, 1240]</text>\n<text text-anchor=\"middle\" x=\"374.5\" y=\"-7.8\" font-family=\"Times,serif\" font-size=\"14.00\" fill=\"#000000\">class = high</text>\n</g>\n<!-- 4&#45;&gt;5 -->\n<g id=\"edge5\" class=\"edge\">\n<title>4&#45;&gt;5</title>\n<path fill=\"none\" stroke=\"#000000\" d=\"M382.6593,-103.9815C381.6842,-95.618 380.6557,-86.7965 379.6698,-78.3409\"/>\n<polygon fill=\"#000000\" stroke=\"#000000\" points=\"383.1295,-77.791 378.4949,-68.2637 376.1766,-78.6017 383.1295,-77.791\"/>\n</g>\n<!-- 6 -->\n<g id=\"node7\" class=\"node\">\n<title>6</title>\n<polygon fill=\"#fefcfa\" stroke=\"#000000\" points=\"655,-68 478,-68 478,0 655,0 655,-68\"/>\n<text text-anchor=\"middle\" x=\"566.5\" y=\"-52.8\" font-family=\"Times,serif\" font-size=\"14.00\" fill=\"#000000\">gini = 0.666</text>\n<text text-anchor=\"middle\" x=\"566.5\" y=\"-37.8\" font-family=\"Times,serif\" font-size=\"14.00\" fill=\"#000000\">samples = 6836</text>\n<text text-anchor=\"middle\" x=\"566.5\" y=\"-22.8\" font-family=\"Times,serif\" font-size=\"14.00\" fill=\"#000000\">value = [2409, 2300, 2127]</text>\n<text text-anchor=\"middle\" x=\"566.5\" y=\"-7.8\" font-family=\"Times,serif\" font-size=\"14.00\" fill=\"#000000\">class = low</text>\n</g>\n<!-- 4&#45;&gt;6 -->\n<g id=\"edge6\" class=\"edge\">\n<title>4&#45;&gt;6</title>\n<path fill=\"none\" stroke=\"#000000\" d=\"M454.153,-103.9815C470.1717,-94.0034 487.237,-83.3733 503.1028,-73.4904\"/>\n<polygon fill=\"#000000\" stroke=\"#000000\" points=\"505.1421,-76.3437 511.7796,-68.0856 501.4411,-70.4021 505.1421,-76.3437\"/>\n</g>\n</g>\n</svg>\n"
          },
          "metadata": {
            "tags": []
          },
          "execution_count": 31
        }
      ]
    },
    {
      "cell_type": "code",
      "metadata": {
        "id": "yFVzV1kKdVC2"
      },
      "source": [
        "# from sklearn.ensemble import RandomForestClassifier\n",
        "\n",
        "\n",
        "# model_rf = make_pipeline(RandomForestClassifier(n_estimators = 10))\n",
        "# param_grid = {'randomforestclassifier__max_depth':[1,2,3]}\n",
        "# grid_rf = GridSearchCV(model_rf, param_grid = param_grid, return_train_score=True, cv = 10)\n",
        "# grid_rf.fit(X_train_imputed,y_train_imputed)\n",
        " \n",
        "# rf_vals = [d['randomforestclassifier__max_depth'] for d in grid_rf.cv_results_['params']]\n",
        "# # plot\n",
        "# plot_graph(rf_vals, grid_rf.cv_results_['mean_test_score'].tolist(), 'Random Forest Classifier  model', 'Max Depth', 'Accuracy', 0, None)\n",
        "\n",
        "\n",
        "# print(\"Random Forest Regressor - best parameters: {}\",grid_rf.best_params_)\n",
        "# print(\"Random Forest Regressor - best mean cross-validation score\",grid_rf.best_score_)"
      ],
      "execution_count": 33,
      "outputs": []
    },
    {
      "cell_type": "code",
      "metadata": {
        "id": "jWv7q0ijiR6U",
        "outputId": "fc541e9e-1ae6-4bf4-f020-01e3a58fa6fc",
        "colab": {
          "base_uri": "https://localhost:8080/",
          "height": 34
        }
      },
      "source": [
        "rf = RandomForestClassifier(max_depth = 2)\n",
        "rf = rf.fit(X_train_imputed, y_train_imputed)\n",
        "score = rf.score(X_test_imputed, y_test_imputed)\n",
        "print(score)"
      ],
      "execution_count": 34,
      "outputs": [
        {
          "output_type": "stream",
          "text": [
            "0.8111849390919158\n"
          ],
          "name": "stdout"
        }
      ]
    },
    {
      "cell_type": "code",
      "metadata": {
        "id": "QGqcfesIq_xt",
        "outputId": "083a35a9-4a4c-42aa-c029-f419f99f2412",
        "colab": {
          "base_uri": "https://localhost:8080/",
          "height": 439
        }
      },
      "source": [
        "import graphviz\n",
        "# DOT data\n",
        "dot_data = tree.export_graphviz(rf.estimators_[3], out_file=None, \n",
        "                                feature_names=feature_cols,  \n",
        "                                class_names=['high','moderate','low'],\n",
        "                                filled=True)\n",
        "\n",
        "# Draw graph\n",
        "graph = graphviz.Source(dot_data, format=\"png\") \n",
        "graph"
      ],
      "execution_count": 36,
      "outputs": [
        {
          "output_type": "execute_result",
          "data": {
            "text/plain": [
              "<graphviz.files.Source at 0x7f2cbda5efd0>"
            ],
            "image/svg+xml": "<?xml version=\"1.0\" encoding=\"UTF-8\" standalone=\"no\"?>\n<!DOCTYPE svg PUBLIC \"-//W3C//DTD SVG 1.1//EN\"\n \"http://www.w3.org/Graphics/SVG/1.1/DTD/svg11.dtd\">\n<!-- Generated by graphviz version 2.40.1 (20161225.0304)\n -->\n<!-- Title: Tree Pages: 1 -->\n<svg width=\"678pt\" height=\"314pt\"\n viewBox=\"0.00 0.00 677.50 314.00\" xmlns=\"http://www.w3.org/2000/svg\" xmlns:xlink=\"http://www.w3.org/1999/xlink\">\n<g id=\"graph0\" class=\"graph\" transform=\"scale(1 1) rotate(0) translate(4 310)\">\n<title>Tree</title>\n<polygon fill=\"#ffffff\" stroke=\"transparent\" points=\"-4,4 -4,-310 673.5,-310 673.5,4 -4,4\"/>\n<!-- 0 -->\n<g id=\"node1\" class=\"node\">\n<title>0</title>\n<polygon fill=\"#fffefd\" stroke=\"#000000\" points=\"443.5,-306 214.5,-306 214.5,-223 443.5,-223 443.5,-306\"/>\n<text text-anchor=\"middle\" x=\"329\" y=\"-290.8\" font-family=\"Times,serif\" font-size=\"14.00\" fill=\"#000000\">Estimated Revenue &gt;= 1M &lt;= 0.003</text>\n<text text-anchor=\"middle\" x=\"329\" y=\"-275.8\" font-family=\"Times,serif\" font-size=\"14.00\" fill=\"#000000\">gini = 0.667</text>\n<text text-anchor=\"middle\" x=\"329\" y=\"-260.8\" font-family=\"Times,serif\" font-size=\"14.00\" fill=\"#000000\">samples = 6393</text>\n<text text-anchor=\"middle\" x=\"329\" y=\"-245.8\" font-family=\"Times,serif\" font-size=\"14.00\" fill=\"#000000\">value = [3438, 3362, 3301]</text>\n<text text-anchor=\"middle\" x=\"329\" y=\"-230.8\" font-family=\"Times,serif\" font-size=\"14.00\" fill=\"#000000\">class = high</text>\n</g>\n<!-- 1 -->\n<g id=\"node2\" class=\"node\">\n<title>1</title>\n<polygon fill=\"#f4edfd\" stroke=\"#000000\" points=\"323,-187 121,-187 121,-104 323,-104 323,-187\"/>\n<text text-anchor=\"middle\" x=\"222\" y=\"-171.8\" font-family=\"Times,serif\" font-size=\"14.00\" fill=\"#000000\">Number of Investments &lt;= 17.9</text>\n<text text-anchor=\"middle\" x=\"222\" y=\"-156.8\" font-family=\"Times,serif\" font-size=\"14.00\" fill=\"#000000\">gini = 0.662</text>\n<text text-anchor=\"middle\" x=\"222\" y=\"-141.8\" font-family=\"Times,serif\" font-size=\"14.00\" fill=\"#000000\">samples = 2059</text>\n<text text-anchor=\"middle\" x=\"222\" y=\"-126.8\" font-family=\"Times,serif\" font-size=\"14.00\" fill=\"#000000\">value = [923, 1055, 1248]</text>\n<text text-anchor=\"middle\" x=\"222\" y=\"-111.8\" font-family=\"Times,serif\" font-size=\"14.00\" fill=\"#000000\">class = low</text>\n</g>\n<!-- 0&#45;&gt;1 -->\n<g id=\"edge1\" class=\"edge\">\n<title>0&#45;&gt;1</title>\n<path fill=\"none\" stroke=\"#000000\" d=\"M291.5766,-222.8796C283.4785,-213.8733 274.8386,-204.2644 266.4991,-194.9897\"/>\n<polygon fill=\"#000000\" stroke=\"#000000\" points=\"268.872,-192.394 259.5831,-187.2981 263.6667,-197.0743 268.872,-192.394\"/>\n<text text-anchor=\"middle\" x=\"258.2576\" y=\"-208.5629\" font-family=\"Times,serif\" font-size=\"14.00\" fill=\"#000000\">True</text>\n</g>\n<!-- 4 -->\n<g id=\"node5\" class=\"node\">\n<title>4</title>\n<polygon fill=\"#fef9f6\" stroke=\"#000000\" points=\"532.5,-187 341.5,-187 341.5,-104 532.5,-104 532.5,-187\"/>\n<text text-anchor=\"middle\" x=\"437\" y=\"-171.8\" font-family=\"Times,serif\" font-size=\"14.00\" fill=\"#000000\">Number of Exits (IPO) &lt;= 1.4</text>\n<text text-anchor=\"middle\" x=\"437\" y=\"-156.8\" font-family=\"Times,serif\" font-size=\"14.00\" fill=\"#000000\">gini = 0.664</text>\n<text text-anchor=\"middle\" x=\"437\" y=\"-141.8\" font-family=\"Times,serif\" font-size=\"14.00\" fill=\"#000000\">samples = 4334</text>\n<text text-anchor=\"middle\" x=\"437\" y=\"-126.8\" font-family=\"Times,serif\" font-size=\"14.00\" fill=\"#000000\">value = [2515, 2307, 2053]</text>\n<text text-anchor=\"middle\" x=\"437\" y=\"-111.8\" font-family=\"Times,serif\" font-size=\"14.00\" fill=\"#000000\">class = high</text>\n</g>\n<!-- 0&#45;&gt;4 -->\n<g id=\"edge4\" class=\"edge\">\n<title>0&#45;&gt;4</title>\n<path fill=\"none\" stroke=\"#000000\" d=\"M366.7732,-222.8796C375.0287,-213.7832 383.842,-204.0722 392.3374,-194.7116\"/>\n<polygon fill=\"#000000\" stroke=\"#000000\" points=\"394.9368,-197.0553 399.0656,-187.2981 389.7533,-192.3509 394.9368,-197.0553\"/>\n<text text-anchor=\"middle\" x=\"400.2756\" y=\"-208.5688\" font-family=\"Times,serif\" font-size=\"14.00\" fill=\"#000000\">False</text>\n</g>\n<!-- 2 -->\n<g id=\"node3\" class=\"node\">\n<title>2</title>\n<polygon fill=\"#f4edfd\" stroke=\"#000000\" points=\"170,-68 0,-68 0,0 170,0 170,-68\"/>\n<text text-anchor=\"middle\" x=\"85\" y=\"-52.8\" font-family=\"Times,serif\" font-size=\"14.00\" fill=\"#000000\">gini = 0.661</text>\n<text text-anchor=\"middle\" x=\"85\" y=\"-37.8\" font-family=\"Times,serif\" font-size=\"14.00\" fill=\"#000000\">samples = 2058</text>\n<text text-anchor=\"middle\" x=\"85\" y=\"-22.8\" font-family=\"Times,serif\" font-size=\"14.00\" fill=\"#000000\">value = [920, 1055, 1248]</text>\n<text text-anchor=\"middle\" x=\"85\" y=\"-7.8\" font-family=\"Times,serif\" font-size=\"14.00\" fill=\"#000000\">class = low</text>\n</g>\n<!-- 1&#45;&gt;2 -->\n<g id=\"edge2\" class=\"edge\">\n<title>1&#45;&gt;2</title>\n<path fill=\"none\" stroke=\"#000000\" d=\"M170.9863,-103.9815C159.242,-94.4232 146.7628,-84.2668 135.0595,-74.7419\"/>\n<polygon fill=\"#000000\" stroke=\"#000000\" points=\"137.065,-71.8614 127.0998,-68.2637 132.6464,-77.2906 137.065,-71.8614\"/>\n</g>\n<!-- 3 -->\n<g id=\"node4\" class=\"node\">\n<title>3</title>\n<polygon fill=\"#e58139\" stroke=\"#000000\" points=\"298,-68 188,-68 188,0 298,0 298,-68\"/>\n<text text-anchor=\"middle\" x=\"243\" y=\"-52.8\" font-family=\"Times,serif\" font-size=\"14.00\" fill=\"#000000\">gini = 0.0</text>\n<text text-anchor=\"middle\" x=\"243\" y=\"-37.8\" font-family=\"Times,serif\" font-size=\"14.00\" fill=\"#000000\">samples = 1</text>\n<text text-anchor=\"middle\" x=\"243\" y=\"-22.8\" font-family=\"Times,serif\" font-size=\"14.00\" fill=\"#000000\">value = [3, 0, 0]</text>\n<text text-anchor=\"middle\" x=\"243\" y=\"-7.8\" font-family=\"Times,serif\" font-size=\"14.00\" fill=\"#000000\">class = high</text>\n</g>\n<!-- 1&#45;&gt;3 -->\n<g id=\"edge3\" class=\"edge\">\n<title>1&#45;&gt;3</title>\n<path fill=\"none\" stroke=\"#000000\" d=\"M229.8196,-103.9815C231.3948,-95.618 233.0563,-86.7965 234.6488,-78.3409\"/>\n<polygon fill=\"#000000\" stroke=\"#000000\" points=\"238.1353,-78.7387 236.5468,-68.2637 231.2563,-77.4431 238.1353,-78.7387\"/>\n</g>\n<!-- 5 -->\n<g id=\"node6\" class=\"node\">\n<title>5</title>\n<polygon fill=\"#e58139\" stroke=\"#000000\" points=\"474.5,-68 357.5,-68 357.5,0 474.5,0 474.5,-68\"/>\n<text text-anchor=\"middle\" x=\"416\" y=\"-52.8\" font-family=\"Times,serif\" font-size=\"14.00\" fill=\"#000000\">gini = 0.0</text>\n<text text-anchor=\"middle\" x=\"416\" y=\"-37.8\" font-family=\"Times,serif\" font-size=\"14.00\" fill=\"#000000\">samples = 19</text>\n<text text-anchor=\"middle\" x=\"416\" y=\"-22.8\" font-family=\"Times,serif\" font-size=\"14.00\" fill=\"#000000\">value = [30, 0, 0]</text>\n<text text-anchor=\"middle\" x=\"416\" y=\"-7.8\" font-family=\"Times,serif\" font-size=\"14.00\" fill=\"#000000\">class = high</text>\n</g>\n<!-- 4&#45;&gt;5 -->\n<g id=\"edge5\" class=\"edge\">\n<title>4&#45;&gt;5</title>\n<path fill=\"none\" stroke=\"#000000\" d=\"M429.1804,-103.9815C427.6052,-95.618 425.9437,-86.7965 424.3512,-78.3409\"/>\n<polygon fill=\"#000000\" stroke=\"#000000\" points=\"427.7437,-77.4431 422.4532,-68.2637 420.8647,-78.7387 427.7437,-77.4431\"/>\n</g>\n<!-- 6 -->\n<g id=\"node7\" class=\"node\">\n<title>6</title>\n<polygon fill=\"#fefaf7\" stroke=\"#000000\" points=\"669.5,-68 492.5,-68 492.5,0 669.5,0 669.5,-68\"/>\n<text text-anchor=\"middle\" x=\"581\" y=\"-52.8\" font-family=\"Times,serif\" font-size=\"14.00\" fill=\"#000000\">gini = 0.665</text>\n<text text-anchor=\"middle\" x=\"581\" y=\"-37.8\" font-family=\"Times,serif\" font-size=\"14.00\" fill=\"#000000\">samples = 4315</text>\n<text text-anchor=\"middle\" x=\"581\" y=\"-22.8\" font-family=\"Times,serif\" font-size=\"14.00\" fill=\"#000000\">value = [2485, 2307, 2053]</text>\n<text text-anchor=\"middle\" x=\"581\" y=\"-7.8\" font-family=\"Times,serif\" font-size=\"14.00\" fill=\"#000000\">class = high</text>\n</g>\n<!-- 4&#45;&gt;6 -->\n<g id=\"edge6\" class=\"edge\">\n<title>4&#45;&gt;6</title>\n<path fill=\"none\" stroke=\"#000000\" d=\"M490.6203,-103.9815C503.0833,-94.3313 516.3338,-84.0714 528.7373,-74.4673\"/>\n<polygon fill=\"#000000\" stroke=\"#000000\" points=\"530.9851,-77.1534 536.7492,-68.2637 526.6995,-71.6186 530.9851,-77.1534\"/>\n</g>\n</g>\n</svg>\n"
          },
          "metadata": {
            "tags": []
          },
          "execution_count": 36
        }
      ]
    },
    {
      "cell_type": "code",
      "metadata": {
        "id": "ZwFHoqhdI5-o"
      },
      "source": [
        ""
      ],
      "execution_count": null,
      "outputs": []
    }
  ]
}